{
 "cells": [
  {
   "cell_type": "code",
   "execution_count": 128,
   "metadata": {},
   "outputs": [],
   "source": [
    "import pandas as pd\n",
    "import matplotlib.pyplot as plt\n",
    "import re\n",
    "import urllib.request\n",
    "from gensim.models.word2vec import Word2Vec\n",
    "from konlpy.tag import Okt"
   ]
  },
  {
   "cell_type": "code",
   "execution_count": 129,
   "metadata": {},
   "outputs": [],
   "source": [
    "train_data = pd.read_table('nounsDocument2.txt')"
   ]
  },
  {
   "cell_type": "code",
   "execution_count": 130,
   "metadata": {},
   "outputs": [
    {
     "data": {
      "text/html": [
       "<div>\n",
       "<style scoped>\n",
       "    .dataframe tbody tr th:only-of-type {\n",
       "        vertical-align: middle;\n",
       "    }\n",
       "\n",
       "    .dataframe tbody tr th {\n",
       "        vertical-align: top;\n",
       "    }\n",
       "\n",
       "    .dataframe thead th {\n",
       "        text-align: right;\n",
       "    }\n",
       "</style>\n",
       "<table border=\"1\" class=\"dataframe\">\n",
       "  <thead>\n",
       "    <tr style=\"text-align: right;\">\n",
       "      <th></th>\n",
       "      <th>구조</th>\n",
       "    </tr>\n",
       "  </thead>\n",
       "  <tbody>\n",
       "    <tr>\n",
       "      <th>0</th>\n",
       "      <td>운영체제 서비스 운영체제 사용자 인터페이스 시스템 콜 시스템 콜 유형 시스템 프로그...</td>\n",
       "    </tr>\n",
       "    <tr>\n",
       "      <th>1</th>\n",
       "      <td>목표 운영체제 사용자 프로세스 다른 시스템 제공 서비스 설명 운영체제 구성 방법 대...</td>\n",
       "    </tr>\n",
       "    <tr>\n",
       "      <th>2</th>\n",
       "      <td>운영체제 서비스 운영체제 사용자 프로그램 프로그램 실행 환경 제공 사용자 프로그램 ...</td>\n",
       "    </tr>\n",
       "    <tr>\n",
       "      <th>3</th>\n",
       "      <td>운영체제 서비스 사용자 업무 수행 데 기능 제공 운영체제 서비스 사용자 인터페이스 ...</td>\n",
       "    </tr>\n",
       "    <tr>\n",
       "      <th>4</th>\n",
       "      <td>운영체제 서비스 사용자 업무 수행 데 기능 제공 운영체제 서비스 프로그램 실행 프로...</td>\n",
       "    </tr>\n",
       "  </tbody>\n",
       "</table>\n",
       "</div>"
      ],
      "text/plain": [
       "                                                  구조\n",
       "0  운영체제 서비스 운영체제 사용자 인터페이스 시스템 콜 시스템 콜 유형 시스템 프로그...\n",
       "1  목표 운영체제 사용자 프로세스 다른 시스템 제공 서비스 설명 운영체제 구성 방법 대...\n",
       "2  운영체제 서비스 운영체제 사용자 프로그램 프로그램 실행 환경 제공 사용자 프로그램 ...\n",
       "3  운영체제 서비스 사용자 업무 수행 데 기능 제공 운영체제 서비스 사용자 인터페이스 ...\n",
       "4  운영체제 서비스 사용자 업무 수행 데 기능 제공 운영체제 서비스 프로그램 실행 프로..."
      ]
     },
     "execution_count": 130,
     "metadata": {},
     "output_type": "execute_result"
    }
   ],
   "source": [
    "train_data[:5] # 상위 5개 출력"
   ]
  },
  {
   "cell_type": "code",
   "execution_count": 131,
   "metadata": {},
   "outputs": [
    {
     "name": "stdout",
     "output_type": "stream",
     "text": [
      "167\n"
     ]
    }
   ],
   "source": [
    "print(len(train_data)) # 리뷰 개수 출력"
   ]
  },
  {
   "cell_type": "code",
   "execution_count": 132,
   "metadata": {},
   "outputs": [
    {
     "name": "stdout",
     "output_type": "stream",
     "text": [
      "False\n"
     ]
    }
   ],
   "source": [
    "# NULL 값 존재 유무\n",
    "print(train_data.isnull().values.any())"
   ]
  },
  {
   "cell_type": "code",
   "execution_count": 133,
   "metadata": {},
   "outputs": [
    {
     "name": "stdout",
     "output_type": "stream",
     "text": [
      "False\n"
     ]
    }
   ],
   "source": [
    "train_data = train_data.dropna(how = 'any') # Null 값이 존재하는 행 제거\n",
    "print(train_data.isnull().values.any()) # Null 값이 존재하는지 확인"
   ]
  },
  {
   "cell_type": "code",
   "execution_count": 134,
   "metadata": {},
   "outputs": [
    {
     "name": "stdout",
     "output_type": "stream",
     "text": [
      "167\n"
     ]
    }
   ],
   "source": [
    "print(len(train_data)) # 리뷰 개수 출력"
   ]
  },
  {
   "cell_type": "code",
   "execution_count": 135,
   "metadata": {},
   "outputs": [
    {
     "name": "stderr",
     "output_type": "stream",
     "text": [
      "c:\\ProgramData\\Anaconda3\\envs\\py37\\lib\\site-packages\\ipykernel_launcher.py:2: FutureWarning: The default value of regex will change from True to False in a future version.\n",
      "  \n"
     ]
    }
   ],
   "source": [
    "# 정규 표현식을 통한 한글 외 문자 제거\n",
    "train_data['구조'] = train_data['구조'].str.replace(\"[^ㄱ-ㅎㅏ-ㅣ가-힣 ]\",\"\")"
   ]
  },
  {
   "cell_type": "code",
   "execution_count": 136,
   "metadata": {},
   "outputs": [
    {
     "data": {
      "text/html": [
       "<div>\n",
       "<style scoped>\n",
       "    .dataframe tbody tr th:only-of-type {\n",
       "        vertical-align: middle;\n",
       "    }\n",
       "\n",
       "    .dataframe tbody tr th {\n",
       "        vertical-align: top;\n",
       "    }\n",
       "\n",
       "    .dataframe thead th {\n",
       "        text-align: right;\n",
       "    }\n",
       "</style>\n",
       "<table border=\"1\" class=\"dataframe\">\n",
       "  <thead>\n",
       "    <tr style=\"text-align: right;\">\n",
       "      <th></th>\n",
       "      <th>구조</th>\n",
       "    </tr>\n",
       "  </thead>\n",
       "  <tbody>\n",
       "    <tr>\n",
       "      <th>0</th>\n",
       "      <td>운영체제 서비스 운영체제 사용자 인터페이스 시스템 콜 시스템 콜 유형 시스템 프로그...</td>\n",
       "    </tr>\n",
       "    <tr>\n",
       "      <th>1</th>\n",
       "      <td>목표 운영체제 사용자 프로세스 다른 시스템 제공 서비스 설명 운영체제 구성 방법 대...</td>\n",
       "    </tr>\n",
       "    <tr>\n",
       "      <th>2</th>\n",
       "      <td>운영체제 서비스 운영체제 사용자 프로그램 프로그램 실행 환경 제공 사용자 프로그램 ...</td>\n",
       "    </tr>\n",
       "    <tr>\n",
       "      <th>3</th>\n",
       "      <td>운영체제 서비스 사용자 업무 수행 데 기능 제공 운영체제 서비스 사용자 인터페이스 ...</td>\n",
       "    </tr>\n",
       "    <tr>\n",
       "      <th>4</th>\n",
       "      <td>운영체제 서비스 사용자 업무 수행 데 기능 제공 운영체제 서비스 프로그램 실행 프로...</td>\n",
       "    </tr>\n",
       "  </tbody>\n",
       "</table>\n",
       "</div>"
      ],
      "text/plain": [
       "                                                  구조\n",
       "0  운영체제 서비스 운영체제 사용자 인터페이스 시스템 콜 시스템 콜 유형 시스템 프로그...\n",
       "1  목표 운영체제 사용자 프로세스 다른 시스템 제공 서비스 설명 운영체제 구성 방법 대...\n",
       "2  운영체제 서비스 운영체제 사용자 프로그램 프로그램 실행 환경 제공 사용자 프로그램 ...\n",
       "3  운영체제 서비스 사용자 업무 수행 데 기능 제공 운영체제 서비스 사용자 인터페이스 ...\n",
       "4  운영체제 서비스 사용자 업무 수행 데 기능 제공 운영체제 서비스 프로그램 실행 프로..."
      ]
     },
     "execution_count": 136,
     "metadata": {},
     "output_type": "execute_result"
    }
   ],
   "source": [
    "train_data[:5] # 상위 5개 출력"
   ]
  },
  {
   "cell_type": "code",
   "execution_count": 137,
   "metadata": {},
   "outputs": [],
   "source": [
    "# 불용어 정의\n",
    "stopwords = ['의','가','이','은','들','는','좀','잘','걍','과','도','를','으로','자','에','와','한','하다']\n",
    "\n",
    "# 형태소 분석기 OKT를 사용한 토큰화 작업 (다소 시간 소요)\n",
    "okt = Okt()\n",
    "\n",
    "# 좀 시간 걸릴수 있음\n",
    "tokenized_data = []\n",
    "for sentence in train_data['구조']:\n",
    "    tokenized_sentence = okt.morphs(sentence, stem=True) # 토큰화\n",
    "    stopwords_removed_sentence = [word for word in tokenized_sentence if not word in stopwords] # 불용어 제거\n",
    "    tokenized_data.append(stopwords_removed_sentence)"
   ]
  },
  {
   "cell_type": "code",
   "execution_count": 138,
   "metadata": {},
   "outputs": [
    {
     "name": "stdout",
     "output_type": "stream",
     "text": [
      "리뷰의 최대 길이 : 77\n",
      "리뷰의 평균 길이 : 30.92814371257485\n"
     ]
    },
    {
     "data": {
      "image/png": "[encoded data removed]",
      "text/plain": [
       "<Figure size 640x480 with 1 Axes>"
      ]
     },
     "metadata": {},
     "output_type": "display_data"
    }
   ],
   "source": [
    "# 리뷰 길이 분포 확인\n",
    "print('리뷰의 최대 길이 :',max(len(review) for review in tokenized_data))\n",
    "print('리뷰의 평균 길이 :',sum(map(len, tokenized_data))/len(tokenized_data))\n",
    "plt.hist([len(review) for review in tokenized_data], bins=50)\n",
    "plt.xlabel('length of samples')\n",
    "plt.ylabel('number of samples')\n",
    "plt.show()"
   ]
  },
  {
   "cell_type": "code",
   "execution_count": 139,
   "metadata": {},
   "outputs": [
    {
     "data": {
      "text/plain": [
       "[['운영체제',\n",
       "  '서비스',\n",
       "  '운영체제',\n",
       "  '사용자',\n",
       "  '인터페이스',\n",
       "  '시스템',\n",
       "  '콜',\n",
       "  '시스템',\n",
       "  '콜',\n",
       "  '유형',\n",
       "  '시스템',\n",
       "  '프로그램',\n",
       "  '운영체제',\n",
       "  '설계',\n",
       "  '및',\n",
       "  '구현',\n",
       "  '운영체제',\n",
       "  '구조',\n",
       "  '운영체제',\n",
       "  '디버깅',\n",
       "  '운영체제',\n",
       "  '생',\n",
       "  '시스템',\n",
       "  '부팅'],\n",
       " ['목표',\n",
       "  '운영체제',\n",
       "  '사용자',\n",
       "  '프로세스',\n",
       "  '다른',\n",
       "  '시스템',\n",
       "  '제공',\n",
       "  '서비스',\n",
       "  '설명',\n",
       "  '운영체제',\n",
       "  '구성',\n",
       "  '방법',\n",
       "  '대해',\n",
       "  '논의',\n",
       "  '운영체제',\n",
       "  '설치',\n",
       "  '맞춤화',\n",
       "  '과정',\n",
       "  '부팅',\n",
       "  '방법'],\n",
       " ['운영체제',\n",
       "  '서비스',\n",
       "  '운영체제',\n",
       "  '사용자',\n",
       "  '프로그램',\n",
       "  '프로그램',\n",
       "  '실행',\n",
       "  '환경',\n",
       "  '제공',\n",
       "  '사용자',\n",
       "  '프로그램',\n",
       "  '실행',\n",
       "  '시스템',\n",
       "  '효율',\n",
       "  '운용',\n",
       "  '담당'],\n",
       " ['운영체제',\n",
       "  '서비스',\n",
       "  '사용자',\n",
       "  '업무',\n",
       "  '수행',\n",
       "  '데',\n",
       "  '기능',\n",
       "  '제공',\n",
       "  '운영체제',\n",
       "  '서비스',\n",
       "  '사용자',\n",
       "  '인터페이스',\n",
       "  '명령어',\n",
       "  '라인',\n",
       "  '인터페이스',\n",
       "  '문자열',\n",
       "  '명령',\n",
       "  '입력',\n",
       "  '배치',\n",
       "  '인터페이스',\n",
       "  '명령어',\n",
       "  '명령어',\n",
       "  '집합',\n",
       "  '파일',\n",
       "  '제공'],\n",
       " ['운영체제',\n",
       "  '서비스',\n",
       "  '사용자',\n",
       "  '업무',\n",
       "  '수행',\n",
       "  '데',\n",
       "  '기능',\n",
       "  '제공',\n",
       "  '운영체제',\n",
       "  '서비스',\n",
       "  '프로그램',\n",
       "  '실행',\n",
       "  '프로그램',\n",
       "  '메모리',\n",
       "  '적재',\n",
       "  '실행',\n",
       "  '실행',\n",
       "  '종료',\n",
       "  '정상',\n",
       "  '비정상',\n",
       "  '입출력',\n",
       "  '연산',\n",
       "  '프로그램',\n",
       "  '실행',\n",
       "  '요구',\n",
       "  '파일',\n",
       "  '입출력',\n",
       "  '장치',\n",
       "  '등',\n",
       "  '입출력',\n",
       "  '서비스']]"
      ]
     },
     "execution_count": 139,
     "metadata": {},
     "output_type": "execute_result"
    }
   ],
   "source": [
    "tokenized_data[:5] # 상위 5개 출력"
   ]
  },
  {
   "cell_type": "code",
   "execution_count": 140,
   "metadata": {},
   "outputs": [],
   "source": [
    "from gensim.models import Word2Vec\n",
    "model = Word2Vec(sentences = tokenized_data, vector_size = 100, window = 5, min_count = 5, workers = 4, sg = 0)"
   ]
  },
  {
   "cell_type": "code",
   "execution_count": 141,
   "metadata": {},
   "outputs": [
    {
     "data": {
      "text/plain": [
       "(234, 100)"
      ]
     },
     "execution_count": 141,
     "metadata": {},
     "output_type": "execute_result"
    }
   ],
   "source": [
    "# 완성된 임베딩 매트릭스의 크기 확인\n",
    "model.wv.vectors.shape"
   ]
  },
  {
   "cell_type": "code",
   "execution_count": 142,
   "metadata": {},
   "outputs": [
    {
     "data": {
      "text/plain": [
       "numpy.ndarray"
      ]
     },
     "execution_count": 142,
     "metadata": {},
     "output_type": "execute_result"
    }
   ],
   "source": [
    "type(model.wv.vectors)"
   ]
  },
  {
   "cell_type": "code",
   "execution_count": 143,
   "metadata": {},
   "outputs": [
    {
     "name": "stdout",
     "output_type": "stream",
     "text": [
      "[('시스템', 0.9985708594322205), ('사용자', 0.9979743957519531), ('프로세스', 0.997952938079834), ('메모리', 0.9979057312011719), ('커널', 0.9978761076927185), ('프로그램', 0.9977774024009705), ('사용', 0.9977016448974609), ('실행', 0.9976210594177246), ('제공', 0.9974662065505981), ('장치', 0.9974145889282227)]\n"
     ]
    }
   ],
   "source": [
    "# '한경수'과 유사한 단어들 뽑아보기\n",
    "print(model.wv.most_similar(\"운영체제\"))"
   ]
  },
  {
   "cell_type": "code",
   "execution_count": 144,
   "metadata": {},
   "outputs": [
    {
     "name": "stdout",
     "output_type": "stream",
     "text": [
      "[('시스템', 0.9984065890312195), ('메모리', 0.9981628656387329), ('사용', 0.9980994462966919), ('커널', 0.9980294704437256), ('운영체제', 0.9979745149612427), ('실행', 0.9977537989616394), ('파일', 0.9977397322654724), ('프로그램', 0.9976139664649963), ('제공', 0.9975297451019287), ('다른', 0.9974008202552795)]\n"
     ]
    }
   ],
   "source": [
    "# '히어로'과 유사한 단어들 뽑아보기\n",
    "print(model.wv.most_similar(\"사용자\"))"
   ]
  },
  {
   "cell_type": "code",
   "execution_count": 145,
   "metadata": {},
   "outputs": [],
   "source": [
    "from sklearn.cluster import KMeans\n",
    "import numpy as np\n",
    "# 랜덤하게 실행되는 부분들에 대해 다음에 실행해도 동일한 결과를 얻기 위해 설정\n",
    "seed = 11\n",
    "rng = np.random.default_rng(seed)\n",
    "\n",
    "k = 5\n",
    "kmeans = KMeans(n_clusters=k, random_state=seed) # k-평균++ 초기화 사용"
   ]
  },
  {
   "cell_type": "code",
   "execution_count": 146,
   "metadata": {},
   "outputs": [
    {
     "data": {
      "text/plain": [
       "array([1, 1, 1, 1, 3, 1, 1, 1, 1, 1, 3, 1, 3, 1, 3, 3, 3, 3, 3, 3, 4, 4,\n",
       "       3, 3, 3, 3, 4, 3, 4, 4, 3, 4, 3, 3, 3, 4, 4, 4, 4, 4, 3, 4, 4, 0,\n",
       "       3, 3, 4, 4, 3, 4, 0, 3, 4, 4, 3, 4, 0, 4, 3, 4, 4, 4, 0, 4, 4, 4,\n",
       "       0, 4, 0, 2, 0, 4, 4, 4, 0, 4, 4, 4, 4, 4, 0, 0, 4, 0, 4, 4, 0, 0,\n",
       "       4, 4, 0, 4, 4, 4, 4, 0, 4, 0, 0, 0, 0, 4, 4, 0, 0, 3, 2, 0, 0, 0,\n",
       "       0, 0, 0, 2, 0, 0, 2, 0, 0, 0, 0, 2, 0, 2, 0, 0, 2, 0, 0, 0, 0, 0,\n",
       "       2, 0, 2, 0, 0, 0, 0, 0, 0, 0, 0, 0, 2, 0, 0, 0, 0, 0, 2, 2, 2, 2,\n",
       "       2, 2, 2, 2, 2, 2, 2, 2, 2, 2, 2, 2, 2, 2, 2, 2, 2, 2, 2, 2, 2, 2,\n",
       "       2, 2, 2, 2, 2, 2, 2, 2, 2, 2, 2, 2, 2, 2, 2, 2, 2, 2, 2, 2, 2, 2,\n",
       "       2, 2, 2, 2, 2, 2, 2, 2, 2, 2, 2, 2, 2, 2, 2, 2, 2, 2, 2, 2, 2, 2,\n",
       "       2, 2, 2, 2, 2, 2, 2, 2, 2, 2, 2, 2, 2, 2])"
      ]
     },
     "execution_count": 146,
     "metadata": {},
     "output_type": "execute_result"
    }
   ],
   "source": [
    "y_pred = kmeans.fit_predict(model.wv.vectors) # 클러스터링 결과 각 샘플의 클러스터 레이블을 리턴 받으려면 fit_predict 사용\n",
    "y_pred"
   ]
  },
  {
   "cell_type": "code",
   "execution_count": 147,
   "metadata": {},
   "outputs": [
    {
     "data": {
      "text/plain": [
       "KMeans(n_clusters=5, random_state=11)"
      ]
     },
     "execution_count": 147,
     "metadata": {},
     "output_type": "execute_result"
    }
   ],
   "source": [
    "kmeans.fit(model.wv.vectors) # 클러스터링을 수행하고 그 결과를 객체의 속성에 저장하는 것까지만 수행하려면 fit 사용"
   ]
  },
  {
   "cell_type": "code",
   "execution_count": 148,
   "metadata": {},
   "outputs": [
    {
     "data": {
      "text/plain": [
       "array([1, 1, 1, 1, 3, 1, 1, 1, 1, 1, 3, 1, 3, 1, 3, 3, 3, 3, 3, 3, 4, 4,\n",
       "       3, 3, 3, 3, 4, 3, 4, 4, 3, 4, 3, 3, 3, 4, 4, 4, 4, 4, 3, 4, 4, 0,\n",
       "       3, 3, 4, 4, 3, 4, 0, 3, 4, 4, 3, 4, 0, 4, 3, 4, 4, 4, 0, 4, 4, 4,\n",
       "       0, 4, 0, 2, 0, 4, 4, 4, 0, 4, 4, 4, 4, 4, 0, 0, 4, 0, 4, 4, 0, 0,\n",
       "       4, 4, 0, 4, 4, 4, 4, 0, 4, 0, 0, 0, 0, 4, 4, 0, 0, 3, 2, 0, 0, 0,\n",
       "       0, 0, 0, 2, 0, 0, 2, 0, 0, 0, 0, 2, 0, 2, 0, 0, 2, 0, 0, 0, 0, 0,\n",
       "       2, 0, 2, 0, 0, 0, 0, 0, 0, 0, 0, 0, 2, 0, 0, 0, 0, 0, 2, 2, 2, 2,\n",
       "       2, 2, 2, 2, 2, 2, 2, 2, 2, 2, 2, 2, 2, 2, 2, 2, 2, 2, 2, 2, 2, 2,\n",
       "       2, 2, 2, 2, 2, 2, 2, 2, 2, 2, 2, 2, 2, 2, 2, 2, 2, 2, 2, 2, 2, 2,\n",
       "       2, 2, 2, 2, 2, 2, 2, 2, 2, 2, 2, 2, 2, 2, 2, 2, 2, 2, 2, 2, 2, 2,\n",
       "       2, 2, 2, 2, 2, 2, 2, 2, 2, 2, 2, 2, 2, 2])"
      ]
     },
     "execution_count": 148,
     "metadata": {},
     "output_type": "execute_result"
    }
   ],
   "source": [
    "kmeans.labels_ # 클러스터링 수행 결과가 labels_ 속성에 저장됨"
   ]
  },
  {
   "cell_type": "code",
   "execution_count": 149,
   "metadata": {},
   "outputs": [
    {
     "data": {
      "text/plain": [
       "array([[-2.74564698e-02,  3.09607983e-02,  1.96626652e-02,\n",
       "         2.72293985e-02,  2.18956750e-02, -1.06902942e-01,\n",
       "         3.55685949e-02,  1.17244087e-01, -6.43805042e-02,\n",
       "        -5.86317219e-02, -4.97758016e-03, -6.28655031e-02,\n",
       "        -8.38567689e-03,  3.07230875e-02,  6.00223802e-03,\n",
       "        -2.03674994e-02,  9.99983214e-03, -7.14457780e-02,\n",
       "        -1.72054116e-02, -1.42412841e-01, -4.50748578e-03,\n",
       "         1.87992882e-02,  3.09197474e-02, -3.66909206e-02,\n",
       "         4.92245564e-03,  2.06279494e-02, -3.75006385e-02,\n",
       "        -1.79116260e-02, -5.41104227e-02,  2.71590073e-02,\n",
       "         4.75415476e-02,  1.56933386e-02,  4.37177271e-02,\n",
       "        -3.36113647e-02, -3.66248339e-02,  8.69725347e-02,\n",
       "         1.17538227e-02, -4.49325405e-02, -3.22548002e-02,\n",
       "        -1.00317940e-01,  7.50698731e-04, -7.98738226e-02,\n",
       "        -2.93889958e-02,  8.34281929e-03,  5.95035553e-02,\n",
       "        -1.25057455e-02, -2.90200450e-02, -1.40627623e-02,\n",
       "         4.66223545e-02,  3.39661129e-02,  5.53941056e-02,\n",
       "        -4.96693961e-02,  8.90585873e-03, -7.81596825e-03,\n",
       "        -3.36589478e-02,  5.50002046e-02,  3.22552235e-03,\n",
       "         8.85649212e-03, -5.01703694e-02,  2.01220047e-02,\n",
       "         2.29017083e-02,  1.60425510e-02,  3.88968624e-02,\n",
       "         6.64737634e-03, -6.67158142e-02,  7.52675235e-02,\n",
       "         2.67098993e-02,  7.43795410e-02, -8.30432400e-02,\n",
       "         7.54885897e-02, -3.64896767e-02,  5.52025102e-02,\n",
       "         5.54048680e-02, -2.55186707e-02,  7.08271265e-02,\n",
       "         4.18426618e-02, -1.03610349e-04, -4.85345256e-03,\n",
       "        -6.76864982e-02,  2.60922387e-02, -1.26462325e-03,\n",
       "         2.96715535e-02, -8.20239633e-02,  7.39774182e-02,\n",
       "        -3.32591683e-02,  9.12446156e-03,  5.30807264e-02,\n",
       "         5.27516901e-02,  6.04777746e-02, -5.48604038e-03,\n",
       "         7.82956257e-02,  5.99324889e-02,  8.64103064e-03,\n",
       "         3.56210619e-02,  1.11694992e-01,  3.11468467e-02,\n",
       "         4.99513261e-02, -3.26184072e-02, -1.60729745e-03,\n",
       "        -3.50531153e-02],\n",
       "       [-7.23446459e-02,  8.50896090e-02,  4.96680364e-02,\n",
       "         7.37243593e-02,  5.55503443e-02, -2.73175180e-01,\n",
       "         9.12085772e-02,  2.96936393e-01, -1.64543256e-01,\n",
       "        -1.54955506e-01, -1.04699675e-02, -1.58565983e-01,\n",
       "        -2.14935392e-02,  7.57617578e-02,  1.93341561e-02,\n",
       "        -5.21329269e-02,  3.01353540e-02, -1.77170306e-01,\n",
       "        -4.93338518e-02, -3.66557419e-01, -1.32784229e-02,\n",
       "         4.78668734e-02,  8.72087330e-02, -9.29479897e-02,\n",
       "         1.35308169e-02,  5.29188402e-02, -9.81117934e-02,\n",
       "        -4.04283404e-02, -1.39331654e-01,  7.26027489e-02,\n",
       "         1.23844400e-01,  3.65073644e-02,  1.14135861e-01,\n",
       "        -8.44300985e-02, -9.38044637e-02,  2.22066611e-01,\n",
       "         2.99876481e-02, -1.12487182e-01, -8.50679874e-02,\n",
       "        -2.52877831e-01,  2.23817839e-03, -2.03609124e-01,\n",
       "        -7.27384686e-02,  1.75410919e-02,  1.51317596e-01,\n",
       "        -3.20103616e-02, -7.38430768e-02, -3.93880382e-02,\n",
       "         1.20054930e-01,  8.78112614e-02,  1.39963567e-01,\n",
       "        -1.29421264e-01,  1.94818415e-02, -1.94366015e-02,\n",
       "        -8.95098522e-02,  1.36197925e-01,  1.05469776e-02,\n",
       "         1.92908179e-02, -1.28364295e-01,  5.00928722e-02,\n",
       "         5.91573194e-02,  4.05340977e-02,  1.03596210e-01,\n",
       "         1.87302344e-02, -1.68908402e-01,  1.95258066e-01,\n",
       "         6.63488060e-02,  1.90459877e-01, -2.13521779e-01,\n",
       "         1.90784007e-01, -9.16999131e-02,  1.41838878e-01,\n",
       "         1.43555745e-01, -6.04433045e-02,  1.79484725e-01,\n",
       "         1.07183442e-01, -4.33772977e-04, -1.19824670e-02,\n",
       "        -1.69897228e-01,  6.30984455e-02, -6.07400713e-03,\n",
       "         7.02524632e-02, -2.08205089e-01,  1.86407909e-01,\n",
       "        -8.13603103e-02,  1.93864945e-02,  1.35460317e-01,\n",
       "         1.32063150e-01,  1.56103805e-01, -1.25861885e-02,\n",
       "         1.99775606e-01,  1.51313454e-01,  2.21111476e-02,\n",
       "         8.92157108e-02,  2.85068929e-01,  7.92644173e-02,\n",
       "         1.24348983e-01, -8.50456804e-02, -4.56545036e-03,\n",
       "        -8.96324068e-02],\n",
       "       [-1.81616656e-02,  2.02776492e-02,  1.23787513e-02,\n",
       "         1.85703579e-02,  1.33297881e-02, -6.73292875e-02,\n",
       "         2.14969795e-02,  7.26277977e-02, -3.91774587e-02,\n",
       "        -3.77000794e-02, -2.38099019e-03, -3.83870453e-02,\n",
       "        -5.98743465e-03,  1.83314830e-02,  2.78287753e-03,\n",
       "        -1.30593684e-02,  7.25735212e-03, -4.44268771e-02,\n",
       "        -1.14976838e-02, -8.96907449e-02, -4.61048912e-03,\n",
       "         1.18645485e-02,  2.04547979e-02, -2.24414431e-02,\n",
       "         3.03453347e-03,  1.32612297e-02, -2.41804179e-02,\n",
       "        -1.02100410e-02, -3.47914882e-02,  1.85354613e-02,\n",
       "         2.99730729e-02,  1.00362431e-02,  2.79926695e-02,\n",
       "        -1.82844009e-02, -2.33847145e-02,  5.46802357e-02,\n",
       "         7.01610930e-03, -2.89483294e-02, -2.17002481e-02,\n",
       "        -6.24648295e-02, -3.03003762e-04, -5.12950309e-02,\n",
       "        -1.73077397e-02,  3.85879399e-03,  3.74014378e-02,\n",
       "        -7.96660874e-03, -1.71872955e-02, -1.06560299e-02,\n",
       "         2.95360498e-02,  2.15686020e-02,  3.50825265e-02,\n",
       "        -3.17184851e-02,  5.40225208e-03, -5.22751268e-03,\n",
       "        -2.21215580e-02,  3.42449285e-02,  2.49547325e-03,\n",
       "         3.74656636e-03, -3.20482031e-02,  1.25509305e-02,\n",
       "         1.38840340e-02,  1.03230644e-02,  2.42444761e-02,\n",
       "         3.58071784e-03, -4.20903414e-02,  4.66255918e-02,\n",
       "         1.62756257e-02,  4.69462164e-02, -5.17609864e-02,\n",
       "         4.76865806e-02, -2.31994484e-02,  3.41722034e-02,\n",
       "         3.55943143e-02, -1.57719348e-02,  4.40810695e-02,\n",
       "         2.80566011e-02,  4.23295205e-05, -3.90735175e-03,\n",
       "        -4.28268909e-02,  1.64524820e-02, -8.06110096e-04,\n",
       "         1.78492572e-02, -5.15100509e-02,  4.61880974e-02,\n",
       "        -1.99462026e-02,  5.82564762e-03,  3.16416472e-02,\n",
       "         3.33028585e-02,  3.81675735e-02, -3.86670884e-03,\n",
       "         4.96825390e-02,  3.69414985e-02,  5.21067344e-03,\n",
       "         2.23027542e-02,  7.00098872e-02,  2.00661048e-02,\n",
       "         3.07540428e-02, -2.07220390e-02, -1.17217936e-03,\n",
       "        -2.23527830e-02],\n",
       "       [-4.71111685e-02,  5.76754510e-02,  3.45524624e-02,\n",
       "         4.78155985e-02,  3.89926024e-02, -1.88938081e-01,\n",
       "         6.19575158e-02,  2.07074493e-01, -1.09971821e-01,\n",
       "        -1.08256474e-01, -9.48080141e-03, -1.09626696e-01,\n",
       "        -1.45914834e-02,  5.38030118e-02,  1.15382336e-02,\n",
       "        -3.63449082e-02,  1.88465323e-02, -1.22339085e-01,\n",
       "        -3.05658430e-02, -2.51057923e-01, -8.42326041e-03,\n",
       "         3.28392908e-02,  5.69802076e-02, -6.36183918e-02,\n",
       "         8.07017460e-03,  3.63656022e-02, -6.83745146e-02,\n",
       "        -2.92329285e-02, -9.60602835e-02,  4.90074679e-02,\n",
       "         8.34297836e-02,  2.49337610e-02,  7.87222162e-02,\n",
       "        -6.00902475e-02, -6.39152974e-02,  1.52471140e-01,\n",
       "         1.98975801e-02, -7.82495067e-02, -5.87221868e-02,\n",
       "        -1.73813716e-01,  1.70269539e-03, -1.41250432e-01,\n",
       "        -5.04031256e-02,  1.19103994e-02,  1.04237922e-01,\n",
       "        -2.42715813e-02, -5.04913256e-02, -2.90369950e-02,\n",
       "         8.31505805e-02,  6.01831302e-02,  9.69801694e-02,\n",
       "        -9.00107324e-02,  1.34252170e-02, -1.38887651e-02,\n",
       "        -5.83840758e-02,  9.68936011e-02,  6.12949254e-03,\n",
       "         1.35664605e-02, -8.71210471e-02,  3.51562575e-02,\n",
       "         3.97715978e-02,  2.63361540e-02,  6.99958131e-02,\n",
       "         1.67428479e-02, -1.16492823e-01,  1.35760292e-01,\n",
       "         4.43195067e-02,  1.30915865e-01, -1.46378696e-01,\n",
       "         1.34785533e-01, -6.36644438e-02,  9.74885821e-02,\n",
       "         1.00986481e-01, -4.43752110e-02,  1.26264259e-01,\n",
       "         7.30479285e-02, -8.91525415e-04, -9.38745588e-03,\n",
       "        -1.17861271e-01,  4.50103283e-02, -5.65123279e-03,\n",
       "         4.88511845e-02, -1.45035863e-01,  1.30871326e-01,\n",
       "        -5.68632819e-02,  1.57474168e-02,  9.40680802e-02,\n",
       "         9.21010226e-02,  1.07987493e-01, -8.76790658e-03,\n",
       "         1.40990868e-01,  1.02192909e-01,  1.81351490e-02,\n",
       "         6.20752275e-02,  1.93978056e-01,  5.47771230e-02,\n",
       "         8.53452757e-02, -5.50983250e-02, -4.82830824e-03,\n",
       "        -6.19983375e-02],\n",
       "       [-3.83234248e-02,  4.60499376e-02,  2.70114504e-02,\n",
       "         3.87743562e-02,  3.12559716e-02, -1.49291679e-01,\n",
       "         4.96147685e-02,  1.60822839e-01, -8.80172402e-02,\n",
       "        -8.28256160e-02, -7.54601602e-03, -8.77568573e-02,\n",
       "        -1.14861522e-02,  4.17762101e-02,  1.01206945e-02,\n",
       "        -2.93270908e-02,  1.35221463e-02, -9.73771438e-02,\n",
       "        -2.53358558e-02, -1.99128002e-01, -7.22543430e-03,\n",
       "         2.59255748e-02,  4.54064235e-02, -4.95598391e-02,\n",
       "         7.56000541e-03,  2.88871340e-02, -5.19790649e-02,\n",
       "        -2.29843725e-02, -7.61254802e-02,  3.92199270e-02,\n",
       "         6.60543069e-02,  2.12324262e-02,  6.45427480e-02,\n",
       "        -4.52880673e-02, -5.09095453e-02,  1.20990105e-01,\n",
       "         1.54046211e-02, -6.33279309e-02, -4.63637859e-02,\n",
       "        -1.40375555e-01,  1.28855580e-04, -1.11694008e-01,\n",
       "        -3.85767668e-02,  8.67578387e-03,  8.25420320e-02,\n",
       "        -1.73291638e-02, -4.09945510e-02, -2.24384367e-02,\n",
       "         6.68432564e-02,  4.79032174e-02,  7.63513520e-02,\n",
       "        -6.90664500e-02,  1.23096965e-02, -1.01981973e-02,\n",
       "        -4.76229191e-02,  7.43117407e-02,  4.84985625e-03,\n",
       "         1.10001573e-02, -7.05883354e-02,  2.75816955e-02,\n",
       "         3.35027203e-02,  2.24960931e-02,  5.32347560e-02,\n",
       "         1.07343830e-02, -9.22303200e-02,  1.06403314e-01,\n",
       "         3.67312245e-02,  1.02281444e-01, -1.16617635e-01,\n",
       "         1.07219629e-01, -5.17746583e-02,  7.57632032e-02,\n",
       "         7.83009529e-02, -3.39520387e-02,  9.83224511e-02,\n",
       "         5.88715859e-02,  2.80870881e-04, -7.74677983e-03,\n",
       "        -9.26555470e-02,  3.61232758e-02, -2.70913751e-03,\n",
       "         3.98239791e-02, -1.16538487e-01,  1.01121359e-01,\n",
       "        -4.62870039e-02,  1.17843924e-02,  7.46340975e-02,\n",
       "         7.37309977e-02,  8.56852680e-02, -6.78466726e-03,\n",
       "         1.10324368e-01,  8.20191875e-02,  1.15879048e-02,\n",
       "         4.97017354e-02,  1.52889282e-01,  4.30869684e-02,\n",
       "         6.71842098e-02, -4.55776043e-02, -2.63486570e-03,\n",
       "        -5.03795743e-02]], dtype=float32)"
      ]
     },
     "execution_count": 149,
     "metadata": {},
     "output_type": "execute_result"
    }
   ],
   "source": [
    "# 각 클러스터의 센트로이드(중심)\n",
    "kmeans.cluster_centers_"
   ]
  },
  {
   "cell_type": "code",
   "execution_count": 150,
   "metadata": {},
   "outputs": [
    {
     "data": {
      "text/plain": [
       "1.8197171688079834"
      ]
     },
     "execution_count": 150,
     "metadata": {},
     "output_type": "execute_result"
    }
   ],
   "source": [
    "# 이너셔(inertia): 각 샘플과 가장 가까운 센트로이드 사이의 평균 제곱 거리\n",
    "kmeans.inertia_"
   ]
  },
  {
   "cell_type": "code",
   "execution_count": 152,
   "metadata": {},
   "outputs": [
    {
     "data": {
      "text/plain": [
       "DBSCAN(eps=0.05)"
      ]
     },
     "execution_count": 152,
     "metadata": {},
     "output_type": "execute_result"
    }
   ],
   "source": [
    "from sklearn.cluster import DBSCAN\n",
    "\n",
    "dbscan = DBSCAN(eps=0.05, min_samples=5)\n",
    "dbscan.fit(model.wv.vectors)"
   ]
  },
  {
   "cell_type": "code",
   "execution_count": 153,
   "metadata": {},
   "outputs": [
    {
     "data": {
      "text/plain": [
       "array([-1, -1, -1, -1, -1, -1, -1, -1, -1, -1], dtype=int64)"
      ]
     },
     "execution_count": 153,
     "metadata": {},
     "output_type": "execute_result"
    }
   ],
   "source": [
    "# 각 샘플의 레이블: 핵심 샘플들의 인덱스 또는 이상치 인덱스(-1)\n",
    "dbscan.labels_[:10]"
   ]
  },
  {
   "cell_type": "code",
   "execution_count": 154,
   "metadata": {},
   "outputs": [
    {
     "data": {
      "text/plain": [
       "array([], dtype=int64)"
      ]
     },
     "execution_count": 154,
     "metadata": {},
     "output_type": "execute_result"
    }
   ],
   "source": [
    "# 핵심 샘플들의 인덱스\n",
    "dbscan.core_sample_indices_[:10]"
   ]
  },
  {
   "cell_type": "code",
   "execution_count": 155,
   "metadata": {},
   "outputs": [
    {
     "data": {
      "text/plain": [
       "array([], shape=(0, 100), dtype=float64)"
      ]
     },
     "execution_count": 155,
     "metadata": {},
     "output_type": "execute_result"
    }
   ],
   "source": [
    "# 핵심 샘플들\n",
    "dbscan.components_[:5]"
   ]
  },
  {
   "cell_type": "code",
   "execution_count": 156,
   "metadata": {},
   "outputs": [
    {
     "name": "stdout",
     "output_type": "stream",
     "text": [
      "0\n",
      "0\n"
     ]
    }
   ],
   "source": [
    "print(len(dbscan.core_sample_indices_))\n",
    "print(len(dbscan.components_))"
   ]
  },
  {
   "cell_type": "code",
   "execution_count": 158,
   "metadata": {},
   "outputs": [],
   "source": [
    "# scikit-learn을 이용한 병합 클러스터링\n",
    "from sklearn.cluster import AgglomerativeClustering\n",
    "\n",
    "agg = AgglomerativeClustering(n_clusters=5, linkage=\"complete\")\n",
    "agg = agg.fit(model.wv.vectors)"
   ]
  }
 ],
 "metadata": {
  "kernelspec": {
   "display_name": "Python 3.7.9 ('py37')",
   "language": "python",
   "name": "python3"
  },
  "language_info": {
   "codemirror_mode": {
    "name": "ipython",
    "version": 3
   },
   "file_extension": ".py",
   "mimetype": "text/x-python",
   "name": "python",
   "nbconvert_exporter": "python",
   "pygments_lexer": "ipython3",
   "version": "3.7.9"
  },
  "orig_nbformat": 4,
  "vscode": {
   "interpreter": {
    "hash": "b79a61544c9a744d09395b396d14bdc3ab2980641b64ddb1c7bc6d7b892900a0"
   }
  }
 },
 "nbformat": 4,
 "nbformat_minor": 2
}

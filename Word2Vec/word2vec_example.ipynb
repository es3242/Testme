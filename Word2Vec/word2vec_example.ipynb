{
 "cells": [
  {
   "cell_type": "code",
   "execution_count": 1,
   "metadata": {},
   "outputs": [],
   "source": [
    "import pandas as pd\n",
    "import matplotlib.pyplot as plt\n",
    "import re\n",
    "import urllib.request\n",
    "from gensim.models.word2vec import Word2Vec\n",
    "from konlpy.tag import Okt"
   ]
  },
  {
   "cell_type": "code",
   "execution_count": 2,
   "metadata": {},
   "outputs": [
    {
     "data": {
      "text/plain": [
       "('ratings.txt', <http.client.HTTPMessage at 0x2185e6b96c8>)"
      ]
     },
     "execution_count": 2,
     "metadata": {},
     "output_type": "execute_result"
    }
   ],
   "source": [
    "urllib.request.urlretrieve(\"https://raw.githubusercontent.com/e9t/nsmc/master/ratings.txt\", filename=\"ratings.txt\")"
   ]
  },
  {
   "cell_type": "code",
   "execution_count": 3,
   "metadata": {},
   "outputs": [],
   "source": [
    "train_data = pd.read_table('ratings.txt')"
   ]
  },
  {
   "cell_type": "code",
   "execution_count": 4,
   "metadata": {},
   "outputs": [
    {
     "data": {
      "text/html": [
       "<div>\n",
       "<style scoped>\n",
       "    .dataframe tbody tr th:only-of-type {\n",
       "        vertical-align: middle;\n",
       "    }\n",
       "\n",
       "    .dataframe tbody tr th {\n",
       "        vertical-align: top;\n",
       "    }\n",
       "\n",
       "    .dataframe thead th {\n",
       "        text-align: right;\n",
       "    }\n",
       "</style>\n",
       "<table border=\"1\" class=\"dataframe\">\n",
       "  <thead>\n",
       "    <tr style=\"text-align: right;\">\n",
       "      <th></th>\n",
       "      <th>id</th>\n",
       "      <th>document</th>\n",
       "      <th>label</th>\n",
       "    </tr>\n",
       "  </thead>\n",
       "  <tbody>\n",
       "    <tr>\n",
       "      <th>0</th>\n",
       "      <td>8112052</td>\n",
       "      <td>어릴때보고 지금다시봐도 재밌어요ㅋㅋ</td>\n",
       "      <td>1</td>\n",
       "    </tr>\n",
       "    <tr>\n",
       "      <th>1</th>\n",
       "      <td>8132799</td>\n",
       "      <td>디자인을 배우는 학생으로, 외국디자이너와 그들이 일군 전통을 통해 발전해가는 문화산...</td>\n",
       "      <td>1</td>\n",
       "    </tr>\n",
       "    <tr>\n",
       "      <th>2</th>\n",
       "      <td>4655635</td>\n",
       "      <td>폴리스스토리 시리즈는 1부터 뉴까지 버릴께 하나도 없음.. 최고.</td>\n",
       "      <td>1</td>\n",
       "    </tr>\n",
       "    <tr>\n",
       "      <th>3</th>\n",
       "      <td>9251303</td>\n",
       "      <td>와.. 연기가 진짜 개쩔구나.. 지루할거라고 생각했는데 몰입해서 봤다.. 그래 이런...</td>\n",
       "      <td>1</td>\n",
       "    </tr>\n",
       "    <tr>\n",
       "      <th>4</th>\n",
       "      <td>10067386</td>\n",
       "      <td>안개 자욱한 밤하늘에 떠 있는 초승달 같은 영화.</td>\n",
       "      <td>1</td>\n",
       "    </tr>\n",
       "  </tbody>\n",
       "</table>\n",
       "</div>"
      ],
      "text/plain": [
       "         id                                           document  label\n",
       "0   8112052                                어릴때보고 지금다시봐도 재밌어요ㅋㅋ      1\n",
       "1   8132799  디자인을 배우는 학생으로, 외국디자이너와 그들이 일군 전통을 통해 발전해가는 문화산...      1\n",
       "2   4655635               폴리스스토리 시리즈는 1부터 뉴까지 버릴께 하나도 없음.. 최고.      1\n",
       "3   9251303  와.. 연기가 진짜 개쩔구나.. 지루할거라고 생각했는데 몰입해서 봤다.. 그래 이런...      1\n",
       "4  10067386                        안개 자욱한 밤하늘에 떠 있는 초승달 같은 영화.      1"
      ]
     },
     "execution_count": 4,
     "metadata": {},
     "output_type": "execute_result"
    }
   ],
   "source": [
    "train_data[:5] # 상위 5개 출력"
   ]
  },
  {
   "cell_type": "code",
   "execution_count": 5,
   "metadata": {},
   "outputs": [
    {
     "name": "stdout",
     "output_type": "stream",
     "text": [
      "200000\n"
     ]
    }
   ],
   "source": [
    "print(len(train_data)) # 리뷰 개수 출력"
   ]
  },
  {
   "cell_type": "code",
   "execution_count": 6,
   "metadata": {},
   "outputs": [
    {
     "name": "stdout",
     "output_type": "stream",
     "text": [
      "True\n"
     ]
    }
   ],
   "source": [
    "# NULL 값 존재 유무\n",
    "print(train_data.isnull().values.any())"
   ]
  },
  {
   "cell_type": "code",
   "execution_count": 7,
   "metadata": {},
   "outputs": [
    {
     "name": "stdout",
     "output_type": "stream",
     "text": [
      "False\n"
     ]
    }
   ],
   "source": [
    "train_data = train_data.dropna(how = 'any') # Null 값이 존재하는 행 제거\n",
    "print(train_data.isnull().values.any()) # Null 값이 존재하는지 확인"
   ]
  },
  {
   "cell_type": "code",
   "execution_count": 8,
   "metadata": {},
   "outputs": [
    {
     "name": "stdout",
     "output_type": "stream",
     "text": [
      "199992\n"
     ]
    }
   ],
   "source": [
    "print(len(train_data)) # 리뷰 개수 출력"
   ]
  },
  {
   "cell_type": "code",
   "execution_count": 9,
   "metadata": {},
   "outputs": [
    {
     "name": "stderr",
     "output_type": "stream",
     "text": [
      "c:\\ProgramData\\Anaconda3\\envs\\py37\\lib\\site-packages\\ipykernel_launcher.py:2: FutureWarning: The default value of regex will change from True to False in a future version.\n",
      "  \n"
     ]
    }
   ],
   "source": [
    "# 정규 표현식을 통한 한글 외 문자 제거\n",
    "train_data['document'] = train_data['document'].str.replace(\"[^ㄱ-ㅎㅏ-ㅣ가-힣 ]\",\"\")"
   ]
  },
  {
   "cell_type": "code",
   "execution_count": 10,
   "metadata": {},
   "outputs": [
    {
     "data": {
      "text/html": [
       "<div>\n",
       "<style scoped>\n",
       "    .dataframe tbody tr th:only-of-type {\n",
       "        vertical-align: middle;\n",
       "    }\n",
       "\n",
       "    .dataframe tbody tr th {\n",
       "        vertical-align: top;\n",
       "    }\n",
       "\n",
       "    .dataframe thead th {\n",
       "        text-align: right;\n",
       "    }\n",
       "</style>\n",
       "<table border=\"1\" class=\"dataframe\">\n",
       "  <thead>\n",
       "    <tr style=\"text-align: right;\">\n",
       "      <th></th>\n",
       "      <th>id</th>\n",
       "      <th>document</th>\n",
       "      <th>label</th>\n",
       "    </tr>\n",
       "  </thead>\n",
       "  <tbody>\n",
       "    <tr>\n",
       "      <th>0</th>\n",
       "      <td>8112052</td>\n",
       "      <td>어릴때보고 지금다시봐도 재밌어요ㅋㅋ</td>\n",
       "      <td>1</td>\n",
       "    </tr>\n",
       "    <tr>\n",
       "      <th>1</th>\n",
       "      <td>8132799</td>\n",
       "      <td>디자인을 배우는 학생으로 외국디자이너와 그들이 일군 전통을 통해 발전해가는 문화산업...</td>\n",
       "      <td>1</td>\n",
       "    </tr>\n",
       "    <tr>\n",
       "      <th>2</th>\n",
       "      <td>4655635</td>\n",
       "      <td>폴리스스토리 시리즈는 부터 뉴까지 버릴께 하나도 없음 최고</td>\n",
       "      <td>1</td>\n",
       "    </tr>\n",
       "    <tr>\n",
       "      <th>3</th>\n",
       "      <td>9251303</td>\n",
       "      <td>와 연기가 진짜 개쩔구나 지루할거라고 생각했는데 몰입해서 봤다 그래 이런게 진짜 영화지</td>\n",
       "      <td>1</td>\n",
       "    </tr>\n",
       "    <tr>\n",
       "      <th>4</th>\n",
       "      <td>10067386</td>\n",
       "      <td>안개 자욱한 밤하늘에 떠 있는 초승달 같은 영화</td>\n",
       "      <td>1</td>\n",
       "    </tr>\n",
       "  </tbody>\n",
       "</table>\n",
       "</div>"
      ],
      "text/plain": [
       "         id                                           document  label\n",
       "0   8112052                                어릴때보고 지금다시봐도 재밌어요ㅋㅋ      1\n",
       "1   8132799  디자인을 배우는 학생으로 외국디자이너와 그들이 일군 전통을 통해 발전해가는 문화산업...      1\n",
       "2   4655635                   폴리스스토리 시리즈는 부터 뉴까지 버릴께 하나도 없음 최고      1\n",
       "3   9251303   와 연기가 진짜 개쩔구나 지루할거라고 생각했는데 몰입해서 봤다 그래 이런게 진짜 영화지      1\n",
       "4  10067386                         안개 자욱한 밤하늘에 떠 있는 초승달 같은 영화      1"
      ]
     },
     "execution_count": 10,
     "metadata": {},
     "output_type": "execute_result"
    }
   ],
   "source": [
    "train_data[:5] # 상위 5개 출력"
   ]
  },
  {
   "cell_type": "code",
   "execution_count": 11,
   "metadata": {},
   "outputs": [],
   "source": [
    "# 불용어 정의\n",
    "stopwords = ['의','가','이','은','들','는','좀','잘','걍','과','도','를','으로','자','에','와','한','하다']\n",
    "\n",
    "# 형태소 분석기 OKT를 사용한 토큰화 작업 (다소 시간 소요)\n",
    "okt = Okt()\n",
    "\n",
    "tokenized_data = []\n",
    "for sentence in train_data['document']:\n",
    "    tokenized_sentence = okt.morphs(sentence, stem=True) # 토큰화\n",
    "    stopwords_removed_sentence = [word for word in tokenized_sentence if not word in stopwords] # 불용어 제거\n",
    "    tokenized_data.append(stopwords_removed_sentence)"
   ]
  },
  {
   "cell_type": "code",
   "execution_count": 13,
   "metadata": {},
   "outputs": [
    {
     "name": "stdout",
     "output_type": "stream",
     "text": [
      "리뷰의 최대 길이 : 72\n",
      "리뷰의 평균 길이 : 10.716703668146726\n"
     ]
    },
    {
     "data": {
      "image/png": "[encoded data removed]",
      "text/plain": [
       "<Figure size 640x480 with 1 Axes>"
      ]
     },
     "metadata": {},
     "output_type": "display_data"
    }
   ],
   "source": [
    "# 리뷰 길이 분포 확인\n",
    "print('리뷰의 최대 길이 :',max(len(review) for review in tokenized_data))\n",
    "print('리뷰의 평균 길이 :',sum(map(len, tokenized_data))/len(tokenized_data))\n",
    "plt.hist([len(review) for review in tokenized_data], bins=50)\n",
    "plt.xlabel('length of samples')\n",
    "plt.ylabel('number of samples')\n",
    "plt.show()"
   ]
  },
  {
   "cell_type": "code",
   "execution_count": 15,
   "metadata": {},
   "outputs": [
    {
     "data": {
      "text/plain": [
       "[['어리다', '때', '보고', '지금', '다시', '보다', '재밌다', 'ㅋㅋ'],\n",
       " ['디자인',\n",
       "  '을',\n",
       "  '배우다',\n",
       "  '학생',\n",
       "  '외국',\n",
       "  '디자이너',\n",
       "  '그',\n",
       "  '일군',\n",
       "  '전통',\n",
       "  '을',\n",
       "  '통해',\n",
       "  '발전',\n",
       "  '문화',\n",
       "  '산업',\n",
       "  '부럽다',\n",
       "  '사실',\n",
       "  '우리나라',\n",
       "  '에서도',\n",
       "  '그',\n",
       "  '어렵다',\n",
       "  '시절',\n",
       "  '끝',\n",
       "  '까지',\n",
       "  '열정',\n",
       "  '을',\n",
       "  '지키다',\n",
       "  '노라노',\n",
       "  '같다',\n",
       "  '전통',\n",
       "  '있다',\n",
       "  '저',\n",
       "  '같다',\n",
       "  '사람',\n",
       "  '꿈',\n",
       "  '을',\n",
       "  '꾸다',\n",
       "  '이루다',\n",
       "  '나가다',\n",
       "  '수',\n",
       "  '있다',\n",
       "  '것',\n",
       "  '감사하다'],\n",
       " ['폴리스스토리', '시리즈', '부터', '뉴', '까지', '버리다', '하나', '없다', '최고'],\n",
       " ['오다',\n",
       "  '연기',\n",
       "  '진짜',\n",
       "  '개',\n",
       "  '쩔다',\n",
       "  '지루하다',\n",
       "  '생각',\n",
       "  '몰입',\n",
       "  '보다',\n",
       "  '그렇다',\n",
       "  '이렇다',\n",
       "  '진짜',\n",
       "  '영화',\n",
       "  '지'],\n",
       " ['안개', '자욱하다', '밤하늘', '뜨다', '있다', '초승달', '같다', '영화']]"
      ]
     },
     "execution_count": 15,
     "metadata": {},
     "output_type": "execute_result"
    }
   ],
   "source": [
    "tokenized_data[:5] # 상위 5개 출력"
   ]
  },
  {
   "cell_type": "code",
   "execution_count": 17,
   "metadata": {},
   "outputs": [],
   "source": [
    "from gensim.models import Word2Vec\n",
    "model = Word2Vec(sentences = tokenized_data, vector_size = 100, window = 5, min_count = 5, workers = 4, sg = 0)"
   ]
  },
  {
   "cell_type": "code",
   "execution_count": 18,
   "metadata": {},
   "outputs": [
    {
     "data": {
      "text/plain": [
       "(16477, 100)"
      ]
     },
     "execution_count": 18,
     "metadata": {},
     "output_type": "execute_result"
    }
   ],
   "source": [
    "# 완성된 임베딩 매트릭스의 크기 확인\n",
    "model.wv.vectors.shape"
   ]
  },
  {
   "cell_type": "code",
   "execution_count": 22,
   "metadata": {},
   "outputs": [
    {
     "data": {
      "text/plain": [
       "numpy.ndarray"
      ]
     },
     "execution_count": 22,
     "metadata": {},
     "output_type": "execute_result"
    }
   ],
   "source": [
    "type(model.wv.vectors)"
   ]
  },
  {
   "cell_type": "code",
   "execution_count": 19,
   "metadata": {},
   "outputs": [
    {
     "name": "stdout",
     "output_type": "stream",
     "text": [
      "[('한석규', 0.8407109975814819), ('안성기', 0.8309076428413391), ('최민수', 0.8258587718009949), ('이정재', 0.8065681457519531), ('서영희', 0.8065228462219238), ('이민호', 0.8064916133880615), ('김명민', 0.8062684535980225), ('양동근', 0.803118884563446), ('단역', 0.7966085076332092), ('김수현', 0.795410692691803)]\n"
     ]
    }
   ],
   "source": [
    "# '최민식'과 유사한 단어들 뽑아보기\n",
    "print(model.wv.most_similar(\"최민식\"))"
   ]
  },
  {
   "cell_type": "code",
   "execution_count": 20,
   "metadata": {},
   "outputs": [
    {
     "name": "stdout",
     "output_type": "stream",
     "text": [
      "[('슬래셔', 0.8757203221321106), ('호러', 0.8380078673362732), ('무협', 0.8336464166641235), ('물', 0.8320494890213013), ('느와르', 0.8292658925056458), ('물의', 0.8233439922332764), ('블록버스터', 0.8171915411949158), ('무비', 0.8047360181808472), ('블랙', 0.7939600944519043), ('로코', 0.7869396805763245)]\n"
     ]
    }
   ],
   "source": [
    "# '히어로'과 유사한 단어들 뽑아보기\n",
    "print(model.wv.most_similar(\"히어로\"))"
   ]
  },
  {
   "cell_type": "code",
   "execution_count": 23,
   "metadata": {},
   "outputs": [],
   "source": [
    "from sklearn.cluster import KMeans\n",
    "import numpy as np\n",
    "# 랜덤하게 실행되는 부분들에 대해 다음에 실행해도 동일한 결과를 얻기 위해 설정\n",
    "seed = 11\n",
    "rng = np.random.default_rng(seed)\n",
    "\n",
    "k = 5\n",
    "kmeans = KMeans(n_clusters=k, random_state=seed) # k-평균++ 초기화 사용"
   ]
  },
  {
   "cell_type": "code",
   "execution_count": 25,
   "metadata": {},
   "outputs": [
    {
     "data": {
      "text/plain": [
       "array([3, 1, 0, ..., 4, 4, 4])"
      ]
     },
     "execution_count": 25,
     "metadata": {},
     "output_type": "execute_result"
    }
   ],
   "source": [
    "y_pred = kmeans.fit_predict(model.wv.vectors) # 클러스터링 결과 각 샘플의 클러스터 레이블을 리턴 받으려면 fit_predict 사용\n",
    "y_pred"
   ]
  },
  {
   "cell_type": "code",
   "execution_count": 27,
   "metadata": {},
   "outputs": [
    {
     "data": {
      "text/plain": [
       "KMeans(n_clusters=5, random_state=11)"
      ]
     },
     "execution_count": 27,
     "metadata": {},
     "output_type": "execute_result"
    }
   ],
   "source": [
    "kmeans.fit(model.wv.vectors) # 클러스터링을 수행하고 그 결과를 객체의 속성에 저장하는 것까지만 수행하려면 fit 사용"
   ]
  },
  {
   "cell_type": "code",
   "execution_count": 28,
   "metadata": {},
   "outputs": [
    {
     "data": {
      "text/plain": [
       "array([3, 1, 0, ..., 4, 4, 4])"
      ]
     },
     "execution_count": 28,
     "metadata": {},
     "output_type": "execute_result"
    }
   ],
   "source": [
    "kmeans.labels_ # 클러스터링 수행 결과가 labels_ 속성에 저장됨"
   ]
  },
  {
   "cell_type": "code",
   "execution_count": 29,
   "metadata": {},
   "outputs": [
    {
     "data": {
      "text/plain": [
       "array([[-1.88704371e-01,  2.31771827e-01, -7.78864861e-01,\n",
       "        -1.69858947e-01, -7.74935260e-02, -4.22769666e-01,\n",
       "        -1.72613084e-01,  2.36873314e-01,  2.39717543e-01,\n",
       "         5.74662566e-01, -3.68280619e-01, -2.14731917e-01,\n",
       "        -1.52717054e-01,  1.31751508e-01,  1.21930391e-01,\n",
       "        -1.73585996e-01,  2.47065544e-01, -5.72213471e-01,\n",
       "         3.82259607e-01, -1.74416572e-01,  3.38304579e-01,\n",
       "         2.37625808e-01, -1.51149809e-01,  2.42153794e-01,\n",
       "         2.34912142e-01, -1.42689735e-01,  2.03006715e-02,\n",
       "         1.19155228e-01, -1.56443104e-01, -2.88183391e-01,\n",
       "         5.01127124e-01, -1.31848693e-01, -5.97293496e-01,\n",
       "        -2.39569783e-01,  1.89454377e-01,  2.32348770e-01,\n",
       "        -1.09119818e-01, -4.63546097e-01, -2.40040779e-01,\n",
       "        -7.92142510e-01, -5.42704523e-01, -1.86984792e-01,\n",
       "        -1.67945977e-02, -1.73167735e-02,  2.14188639e-02,\n",
       "         1.14259586e-01, -8.69923308e-02,  2.62582988e-01,\n",
       "         1.62341207e-01, -9.23178047e-02,  8.40318054e-02,\n",
       "         1.71957105e-01,  1.23317637e-01, -2.32689194e-02,\n",
       "        -2.31750041e-01,  4.12535727e-01,  1.51046187e-01,\n",
       "        -1.60825700e-01, -7.02192187e-01,  3.93285304e-01,\n",
       "         1.11263797e-01, -7.06837028e-02, -1.38858676e-01,\n",
       "         1.87455118e-03, -2.69446313e-01,  2.30202302e-02,\n",
       "        -7.67911784e-03,  1.77442819e-01, -7.13260472e-03,\n",
       "         2.64308631e-01, -3.96358073e-01, -7.14504123e-01,\n",
       "         4.00752068e-01, -4.78806168e-01,  3.78992975e-01,\n",
       "         4.59592372e-01, -4.06310260e-01,  3.48013073e-01,\n",
       "        -1.23649314e-02, -9.06212330e-02,  4.25503589e-02,\n",
       "        -2.17639714e-01,  9.61182937e-02, -5.39062321e-01,\n",
       "        -1.05681002e-01,  8.89878571e-02, -2.29790971e-01,\n",
       "         4.82063472e-01,  6.20224833e-01, -6.92371130e-02,\n",
       "        -4.44061011e-01,  1.41236722e-01,  1.41190261e-01,\n",
       "        -1.97488248e-01,  8.66330788e-02,  1.66939005e-01,\n",
       "        -3.69213611e-01, -6.16394937e-01, -2.74198294e-01,\n",
       "         5.12247026e-01],\n",
       "       [ 1.68109745e-01,  2.55533218e-01,  1.05771512e-01,\n",
       "        -1.07725747e-01,  2.51261294e-01, -6.09393954e-01,\n",
       "        -2.91133784e-02,  4.36765552e-01,  1.93805069e-01,\n",
       "        -3.55617166e-01, -8.58969092e-02, -9.70421955e-02,\n",
       "        -3.98947969e-02,  7.23275840e-02,  1.32478714e-01,\n",
       "         2.98986852e-01, -6.65938333e-02, -4.34349895e-01,\n",
       "        -1.78172916e-01, -1.95440143e-01, -4.15300846e-01,\n",
       "         3.53538483e-01,  6.71653032e-01, -6.88045502e-01,\n",
       "         3.61623704e-01, -5.16401194e-02,  2.41717994e-01,\n",
       "        -1.74103409e-01,  5.65693304e-02,  4.09036547e-01,\n",
       "         1.50550514e-01, -2.33470663e-01, -1.21069714e-01,\n",
       "        -6.45792484e-02, -5.75859129e-01,  6.90515161e-01,\n",
       "         5.25506549e-02, -2.88809925e-01, -8.93141627e-02,\n",
       "        -2.23001882e-01, -1.23830400e-01, -1.73198000e-01,\n",
       "        -2.29819298e-01, -3.46575499e-01, -1.39133275e-01,\n",
       "        -7.03658015e-02, -4.68907714e-01,  1.12287611e-01,\n",
       "        -1.72424823e-01,  4.17824723e-02,  1.84299603e-01,\n",
       "        -5.77610850e-01, -2.50049174e-01,  1.34105951e-01,\n",
       "        -1.43464692e-02,  2.03495100e-01,  1.06215939e-01,\n",
       "         2.13656172e-01, -3.22274268e-01,  1.39582038e-01,\n",
       "        -1.19125672e-01,  3.15380991e-01, -7.66214132e-01,\n",
       "        -9.31081921e-03,  1.05465531e-01,  2.00713605e-01,\n",
       "         1.40783891e-01, -2.73105413e-01, -2.16349393e-01,\n",
       "         6.53776973e-02,  4.70638052e-02,  4.60152924e-01,\n",
       "         1.99569166e-01,  2.22747356e-01, -2.89378345e-01,\n",
       "        -1.60909906e-01, -4.11752313e-01, -1.66835964e-01,\n",
       "         4.53644879e-02,  2.32614115e-01, -3.38508904e-01,\n",
       "         3.24734718e-01, -1.78470910e-01,  1.07598469e-01,\n",
       "        -2.52883248e-02,  2.36096025e-01,  1.94507629e-01,\n",
       "         1.12671107e-01,  3.07951421e-01,  2.08852980e-02,\n",
       "         2.82686621e-01,  3.86445314e-01, -4.08284724e-01,\n",
       "        -3.18942428e-01,  3.47830862e-01,  4.00857836e-01,\n",
       "         1.94280967e-02, -1.68139517e-01, -9.70233977e-02,\n",
       "        -2.34723285e-01],\n",
       "       [-2.40743339e-01,  1.87746674e-01,  6.98163211e-02,\n",
       "        -2.24542618e-02, -9.57452133e-03, -1.67011797e-01,\n",
       "         8.89102817e-02,  2.61685878e-01, -1.79061770e-01,\n",
       "        -6.98483437e-02, -1.89922199e-01, -2.01881543e-01,\n",
       "        -1.08713485e-01,  7.33322501e-02,  1.66650355e-01,\n",
       "        -1.14891157e-01,  1.28312856e-01, -1.67980224e-01,\n",
       "        -9.59027372e-03, -3.98240030e-01,  3.18360418e-01,\n",
       "         1.19051769e-01,  1.15312837e-01, -2.41658092e-02,\n",
       "         5.14779240e-04, -1.59084201e-01, -1.38665810e-01,\n",
       "        -2.15105996e-01, -2.36031726e-01, -1.00172963e-03,\n",
       "         1.60687342e-01,  1.51888266e-01,  4.14111651e-02,\n",
       "        -1.36411712e-02, -9.38803405e-02,  1.08884424e-01,\n",
       "        -7.61920214e-02, -1.51386857e-01, -1.02034301e-01,\n",
       "        -3.32110614e-01,  1.63938642e-01, -1.99433044e-03,\n",
       "        -1.01645164e-01,  3.92265357e-02,  4.90286127e-02,\n",
       "        -1.96122304e-02, -8.18888396e-02,  1.03130955e-02,\n",
       "         9.33716521e-02,  2.63865709e-01,  1.76243126e-01,\n",
       "        -2.42945939e-01,  1.92842986e-02, -5.82091995e-02,\n",
       "        -7.49158561e-02,  1.88331380e-01,  3.83771583e-03,\n",
       "        -4.06922959e-02, -1.82623416e-01,  8.28349814e-02,\n",
       "        -2.35908702e-02,  3.77083384e-02,  1.93646327e-02,\n",
       "        -1.70313165e-01, -2.36734509e-01,  1.01183377e-01,\n",
       "         1.79975014e-02,  7.43829086e-02, -1.76566944e-01,\n",
       "         1.62039578e-01,  1.12430453e-02,  1.21874258e-01,\n",
       "         3.73838484e-01, -1.09217316e-01,  1.81733727e-01,\n",
       "         6.22089468e-02,  1.49384633e-01, -8.79364312e-02,\n",
       "        -1.69017121e-01,  1.37836307e-01, -8.82939249e-03,\n",
       "        -9.45653096e-02, -1.64908499e-01,  2.06914425e-01,\n",
       "        -2.87931375e-02, -2.47479193e-02, -1.37194782e-01,\n",
       "         2.91641295e-01,  1.79234058e-01,  4.68212441e-02,\n",
       "         2.50575900e-01,  6.59965798e-02,  2.40261540e-01,\n",
       "         7.25963712e-03,  2.63936102e-01,  9.39285234e-02,\n",
       "         4.30193432e-02, -1.46390870e-01,  1.20510176e-01,\n",
       "         2.13999599e-02],\n",
       "       [ 1.52021319e-01,  2.03208074e-01, -3.58798504e-01,\n",
       "         9.35704038e-02, -3.70515645e-01, -3.48973930e-01,\n",
       "         3.62969786e-02,  2.35998273e-01, -3.24068934e-01,\n",
       "        -2.39444166e-01,  6.69364333e-02, -5.05538225e-01,\n",
       "        -4.16659892e-01,  5.48336387e-01, -2.14530081e-01,\n",
       "        -1.39978960e-01,  6.77332759e-01,  2.42409185e-01,\n",
       "        -2.57300455e-02, -4.95657802e-01,  4.37895507e-02,\n",
       "        -6.74237609e-01,  1.93927228e-01,  3.38259995e-01,\n",
       "        -6.20555915e-02,  3.15158188e-01, -3.48147571e-01,\n",
       "        -4.37849492e-01, -1.58490315e-02, -1.30603975e-02,\n",
       "         1.17366411e-01, -1.06766135e-01,  1.30652025e-01,\n",
       "        -3.89853925e-01,  2.32138067e-01,  3.67295966e-02,\n",
       "         1.55201733e-01,  1.37856603e-03, -2.55910344e-02,\n",
       "        -4.42552090e-01,  2.88199484e-01, -2.53464848e-01,\n",
       "         5.24810553e-01, -4.10184041e-02, -6.14843182e-02,\n",
       "        -5.61800361e-01, -1.19880602e-01, -5.37224859e-02,\n",
       "         8.96795213e-01, -5.25285304e-03, -3.30422521e-01,\n",
       "        -1.31079182e-02, -3.04100722e-01,  3.76605332e-01,\n",
       "        -3.75858843e-01,  3.22763205e-01,  2.55975187e-01,\n",
       "        -2.19980732e-01, -5.32487035e-01, -1.32342592e-01,\n",
       "         6.18185818e-01,  1.45831317e-01,  5.92475116e-01,\n",
       "         3.08095932e-01, -5.39547086e-01,  2.64004588e-01,\n",
       "         8.34373236e-02,  4.30055410e-01,  3.29036117e-02,\n",
       "         6.07891321e-01, -4.84557033e-01, -1.93364173e-01,\n",
       "         2.82351255e-01,  2.04173192e-01,  2.89686978e-01,\n",
       "         2.20841855e-01,  1.87132627e-01,  3.34922940e-01,\n",
       "         4.83362824e-01, -1.40320390e-01,  2.87824333e-01,\n",
       "        -6.71374053e-02,  3.81068289e-01, -2.09888816e-01,\n",
       "        -3.69263470e-01, -1.21787064e-01,  2.25220233e-01,\n",
       "         3.12958837e-01,  1.73172921e-01,  3.74165297e-01,\n",
       "        -2.41515756e-01,  6.34467900e-02, -5.14142096e-01,\n",
       "         1.11549042e-01,  9.82833207e-02,  2.55268276e-01,\n",
       "        -8.02895501e-02, -4.86722499e-01,  2.62912571e-01,\n",
       "         5.30275285e-01],\n",
       "       [-6.01382628e-02,  8.51563662e-02, -2.54828036e-02,\n",
       "        -5.31785190e-06,  4.32816753e-03, -1.04191497e-01,\n",
       "         4.05810960e-02,  1.46565139e-01, -7.42338896e-02,\n",
       "        -3.25634964e-02, -8.81315917e-02, -9.95660871e-02,\n",
       "        -5.06205931e-02,  4.44481820e-02,  6.89993501e-02,\n",
       "        -5.39123118e-02,  3.83696109e-02, -6.69432580e-02,\n",
       "         1.69947706e-02, -1.87956035e-01,  7.74508268e-02,\n",
       "         5.03311381e-02,  7.36250058e-02, -2.24970896e-02,\n",
       "         2.10521743e-02, -3.09884623e-02, -5.85681051e-02,\n",
       "        -8.11470076e-02, -1.02204792e-01,  1.09059820e-02,\n",
       "         9.36961249e-02, -1.97166149e-02,  1.09330863e-02,\n",
       "        -5.47643527e-02, -3.18289399e-02,  8.87334645e-02,\n",
       "        -2.22512856e-02, -6.74662516e-02, -5.25365211e-02,\n",
       "        -1.62674278e-01,  2.93647144e-02, -5.05767576e-02,\n",
       "        -2.34205537e-02,  1.75679699e-02,  1.34443492e-02,\n",
       "        -2.49473266e-02, -3.94859165e-02,  7.83169549e-03,\n",
       "         5.85255027e-02,  6.71538562e-02,  6.99998513e-02,\n",
       "        -1.11553162e-01,  1.69209298e-02, -1.46400873e-02,\n",
       "        -5.80999777e-02,  9.28282291e-02,  3.56282592e-02,\n",
       "        -3.38061992e-03, -1.31065235e-01,  4.23448905e-02,\n",
       "         5.73551934e-03,  3.89612019e-02, -2.63489084e-03,\n",
       "        -2.93302424e-02, -1.13117717e-01,  1.00812435e-01,\n",
       "         2.05590203e-02,  5.22229336e-02, -8.71344209e-02,\n",
       "         9.47689638e-02, -2.34175436e-02,  4.18869592e-02,\n",
       "         1.69543207e-01, -2.53075492e-02,  8.53095502e-02,\n",
       "         3.96647006e-02,  9.59746819e-03,  2.43722051e-02,\n",
       "        -3.85820009e-02,  3.00947707e-02, -3.69065367e-02,\n",
       "        -3.38799134e-02, -8.96626711e-02,  6.94499910e-02,\n",
       "        -3.34939584e-02, -2.67344411e-04, -1.84863061e-02,\n",
       "         1.09809101e-01,  1.14173181e-01,  1.39309876e-02,\n",
       "         9.35340673e-02,  5.33089191e-02,  6.19992986e-02,\n",
       "        -2.06869505e-02,  1.24379680e-01,  8.73777419e-02,\n",
       "         1.43392067e-02, -1.05708688e-01,  4.28693183e-02,\n",
       "         2.99894866e-02]], dtype=float32)"
      ]
     },
     "execution_count": 29,
     "metadata": {},
     "output_type": "execute_result"
    }
   ],
   "source": [
    "# 각 클러스터의 센트로이드(중심)\n",
    "kmeans.cluster_centers_"
   ]
  },
  {
   "cell_type": "code",
   "execution_count": 31,
   "metadata": {},
   "outputs": [
    {
     "data": {
      "text/plain": [
       "101163.046875"
      ]
     },
     "execution_count": 31,
     "metadata": {},
     "output_type": "execute_result"
    }
   ],
   "source": [
    "# 이너셔(inertia): 각 샘플과 가장 가까운 센트로이드 사이의 평균 제곱 거리\n",
    "kmeans.inertia_"
   ]
  },
  {
   "cell_type": "code",
   "execution_count": 32,
   "metadata": {},
   "outputs": [
    {
     "data": {
      "text/plain": [
       "DBSCAN(eps=0.05)"
      ]
     },
     "execution_count": 32,
     "metadata": {},
     "output_type": "execute_result"
    }
   ],
   "source": [
    "from sklearn.cluster import DBSCAN\n",
    "\n",
    "dbscan = DBSCAN(eps=0.05, min_samples=5)\n",
    "dbscan.fit(model.wv.vectors)"
   ]
  },
  {
   "cell_type": "code",
   "execution_count": 33,
   "metadata": {},
   "outputs": [
    {
     "data": {
      "text/plain": [
       "array([-1, -1, -1, -1, -1, -1, -1, -1, -1, -1], dtype=int64)"
      ]
     },
     "execution_count": 33,
     "metadata": {},
     "output_type": "execute_result"
    }
   ],
   "source": [
    "# 각 샘플의 레이블: 핵심 샘플들의 인덱스 또는 이상치 인덱스(-1)\n",
    "dbscan.labels_[:10]"
   ]
  },
  {
   "cell_type": "code",
   "execution_count": 34,
   "metadata": {},
   "outputs": [
    {
     "data": {
      "text/plain": [
       "array([], dtype=int64)"
      ]
     },
     "execution_count": 34,
     "metadata": {},
     "output_type": "execute_result"
    }
   ],
   "source": [
    "# 핵심 샘플들의 인덱스\n",
    "dbscan.core_sample_indices_[:10]"
   ]
  },
  {
   "cell_type": "code",
   "execution_count": 35,
   "metadata": {},
   "outputs": [
    {
     "data": {
      "text/plain": [
       "array([], shape=(0, 100), dtype=float64)"
      ]
     },
     "execution_count": 35,
     "metadata": {},
     "output_type": "execute_result"
    }
   ],
   "source": [
    "# 핵심 샘플들\n",
    "dbscan.components_[:5]"
   ]
  },
  {
   "cell_type": "code",
   "execution_count": 36,
   "metadata": {},
   "outputs": [
    {
     "name": "stdout",
     "output_type": "stream",
     "text": [
      "0\n",
      "0\n"
     ]
    }
   ],
   "source": [
    "print(len(dbscan.core_sample_indices_))\n",
    "print(len(dbscan.components_))"
   ]
  },
  {
   "cell_type": "code",
   "execution_count": null,
   "metadata": {},
   "outputs": [],
   "source": [
    "# scikit-learn을 이용한 병합 클러스터링\n",
    "from sklearn.cluster import AgglomerativeClustering\n",
    "\n",
    "agg = AgglomerativeClustering(n_clusters=5, linkage=\"complete\")\n",
    "agg = agg.fit(X)"
   ]
  }
 ],
 "metadata": {
  "kernelspec": {
   "display_name": "Python 3.7.9 ('py37')",
   "language": "python",
   "name": "python3"
  },
  "language_info": {
   "codemirror_mode": {
    "name": "ipython",
    "version": 3
   },
   "file_extension": ".py",
   "mimetype": "text/x-python",
   "name": "python",
   "nbconvert_exporter": "python",
   "pygments_lexer": "ipython3",
   "version": "3.7.9"
  },
  "orig_nbformat": 4,
  "vscode": {
   "interpreter": {
    "hash": "b79a61544c9a744d09395b396d14bdc3ab2980641b64ddb1c7bc6d7b892900a0"
   }
  }
 },
 "nbformat": 4,
 "nbformat_minor": 2
}
